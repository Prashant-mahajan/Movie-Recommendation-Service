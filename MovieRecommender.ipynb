{
  "nbformat": 4,
  "nbformat_minor": 0,
  "metadata": {
    "colab": {
      "name": "MovieRecommender.ipynb",
      "version": "0.3.2",
      "provenance": [],
      "collapsed_sections": []
    },
    "kernelspec": {
      "name": "python3",
      "display_name": "Python 3"
    }
  },
  "cells": [
    {
      "cell_type": "code",
      "metadata": {
        "id": "P_ZD8ow_crUK",
        "colab_type": "code",
        "colab": {}
      },
      "source": [
        "# Install JDK 8 \n",
        "!sudo apt-get purge openjdk-\\* icedtea-\\* icedtea6-\\*\n",
        "!sudo apt autoremove\n",
        "!sudo apt install openjdk-8-jre-headless\n"
      ],
      "execution_count": 0,
      "outputs": []
    },
    {
      "cell_type": "code",
      "metadata": {
        "id": "0dnhzAIrdUc6",
        "colab_type": "code",
        "outputId": "50d9fd2d-34c6-42fd-cc35-9fe3b313d114",
        "colab": {
          "base_uri": "https://localhost:8080/",
          "height": 68
        }
      },
      "source": [
        "!java -version"
      ],
      "execution_count": 15,
      "outputs": [
        {
          "output_type": "stream",
          "text": [
            "openjdk version \"1.8.0_191\"\n",
            "OpenJDK Runtime Environment (build 1.8.0_191-8u191-b12-2ubuntu0.18.04.1-b12)\n",
            "OpenJDK 64-Bit Server VM (build 25.191-b12, mixed mode)\n"
          ],
          "name": "stdout"
        }
      ]
    },
    {
      "cell_type": "code",
      "metadata": {
        "id": "pDExzCF6PFQp",
        "colab_type": "code",
        "colab": {}
      },
      "source": [
        "complete_dataset_url = 'http://files.grouplens.org/datasets/movielens/ml-latest.zip'\n",
        "small_dataset_url = 'http://files.grouplens.org/datasets/movielens/ml-latest-small.zip'"
      ],
      "execution_count": 0,
      "outputs": []
    },
    {
      "cell_type": "code",
      "metadata": {
        "id": "5oQVPOx6TE27",
        "colab_type": "code",
        "colab": {}
      },
      "source": [
        "!pip3 install pyspark"
      ],
      "execution_count": 0,
      "outputs": []
    },
    {
      "cell_type": "code",
      "metadata": {
        "id": "rk_tAhkzP6Zv",
        "colab_type": "code",
        "colab": {}
      },
      "source": [
        "import os\n",
        "# os.mkdir('datasets')"
      ],
      "execution_count": 0,
      "outputs": []
    },
    {
      "cell_type": "code",
      "metadata": {
        "id": "3XNEYkCcPTli",
        "colab_type": "code",
        "colab": {}
      },
      "source": [
        "\n",
        "# Make sure path is correct in your system\n",
        "datasets_path = os.path.join('..', 'content/datasets')\n",
        "\n",
        "complete_dataset_path = os.path.join(datasets_path, 'ml-latest.zip')\n",
        "small_dataset_path = os.path.join(datasets_path, 'ml-latest-small.zip')"
      ],
      "execution_count": 0,
      "outputs": []
    },
    {
      "cell_type": "code",
      "metadata": {
        "id": "vajHWxbdPXLM",
        "colab_type": "code",
        "colab": {}
      },
      "source": [
        "import urllib.request\n",
        "\n",
        "small_f = urllib.request.urlretrieve (small_dataset_url, small_dataset_path)\n",
        "complete_f = urllib.request.urlretrieve (complete_dataset_url, complete_dataset_path)"
      ],
      "execution_count": 0,
      "outputs": []
    },
    {
      "cell_type": "code",
      "metadata": {
        "id": "3rJMnLecPbrD",
        "colab_type": "code",
        "colab": {}
      },
      "source": [
        "# Extract content from zip files\n",
        "\n",
        "import zipfile\n",
        "\n",
        "with zipfile.ZipFile(small_dataset_path, \"r\") as z:\n",
        "    z.extractall(datasets_path)\n",
        "\n",
        "with zipfile.ZipFile(complete_dataset_path, \"r\") as z:\n",
        "    z.extractall(datasets_path)"
      ],
      "execution_count": 0,
      "outputs": []
    },
    {
      "cell_type": "markdown",
      "metadata": {
        "id": "wJ2Srqb9RqDT",
        "colab_type": "text"
      },
      "source": [
        " \n",
        "**Data Cleaning**\n",
        "1.   For each line in the ratings dataset, we create a tuple of (UserID, MovieID, Rating). We drop the timestamp because we do not need it for this recommender.\n",
        "2.  For each line in the movies dataset, we create a tuple of (MovieID, Title). We drop the genres because we do not use them for this recommender.\n",
        "\n"
      ]
    },
    {
      "cell_type": "code",
      "metadata": {
        "id": "kZewahCGS6RI",
        "colab_type": "code",
        "colab": {}
      },
      "source": [
        "from pyspark import SparkContext\n",
        "sc =SparkContext()"
      ],
      "execution_count": 0,
      "outputs": []
    },
    {
      "cell_type": "code",
      "metadata": {
        "id": "bk0rJcquQ39Y",
        "colab_type": "code",
        "colab": {}
      },
      "source": [
        "# From raw ratings data filter out the header, included in each file \n",
        "\n",
        "small_ratings_file = os.path.join(datasets_path, 'ml-latest-small', 'ratings.csv')\n",
        "\n",
        "small_ratings_raw_data = sc.textFile(small_ratings_file)\n",
        "small_ratings_raw_data_header = small_ratings_raw_data.take(1)[0]"
      ],
      "execution_count": 0,
      "outputs": []
    },
    {
      "cell_type": "code",
      "metadata": {
        "id": "XBH1f5TRR69l",
        "colab_type": "code",
        "colab": {}
      },
      "source": [
        "# Partse the raw data into a new RDD\n",
        "\n",
        "small_ratings_data = small_ratings_raw_data.filter(lambda line: line!=small_ratings_raw_data_header)\\\n",
        "    .map(lambda line: line.split(\",\")).map(lambda tokens: (tokens[0],tokens[1],tokens[2])).cache()"
      ],
      "execution_count": 0,
      "outputs": []
    },
    {
      "cell_type": "code",
      "metadata": {
        "id": "ULrMN2AsUBHe",
        "colab_type": "code",
        "outputId": "b61e6b96-ab51-4b5f-bcd5-0dc16a2958cf",
        "colab": {
          "base_uri": "https://localhost:8080/",
          "height": 34
        }
      },
      "source": [
        "# Test whether working or not\n",
        "\n",
        "small_ratings_data.take(3)"
      ],
      "execution_count": 7,
      "outputs": [
        {
          "output_type": "execute_result",
          "data": {
            "text/plain": [
              "[('1', '1', '4.0'), ('1', '3', '4.0'), ('1', '6', '4.0')]"
            ]
          },
          "metadata": {
            "tags": []
          },
          "execution_count": 7
        }
      ]
    },
    {
      "cell_type": "code",
      "metadata": {
        "id": "helOLQ36UKxD",
        "colab_type": "code",
        "outputId": "2dc25ea5-f1fb-4b6b-c3ae-30563762ba75",
        "colab": {
          "base_uri": "https://localhost:8080/",
          "height": 68
        }
      },
      "source": [
        "# Perform similar operation for movies.csv file \n",
        "\n",
        "small_movies_file = os.path.join(datasets_path, 'ml-latest-small', 'movies.csv')\n",
        "\n",
        "small_movies_raw_data = sc.textFile(small_movies_file)\n",
        "small_movies_raw_data_header = small_movies_raw_data.take(1)[0]\n",
        "\n",
        "small_movies_data = small_movies_raw_data.filter(lambda line: line!=small_movies_raw_data_header)\\\n",
        "    .map(lambda line: line.split(\",\")).map(lambda tokens: (tokens[0],tokens[1])).cache()\n",
        "    \n",
        "small_movies_data.take(3)"
      ],
      "execution_count": 8,
      "outputs": [
        {
          "output_type": "execute_result",
          "data": {
            "text/plain": [
              "[('1', 'Toy Story (1995)'),\n",
              " ('2', 'Jumanji (1995)'),\n",
              " ('3', 'Grumpier Old Men (1995)')]"
            ]
          },
          "metadata": {
            "tags": []
          },
          "execution_count": 8
        }
      ]
    },
    {
      "cell_type": "markdown",
      "metadata": {
        "id": "1xfxznJ1UZ17",
        "colab_type": "text"
      },
      "source": [
        "**Collaborative Filetering**\n",
        "\n",
        "Spark MLlib library for Machine Learning provides a Collaborative Filtering implementation by using Alternating Least Squares (ALS).\n",
        "\n",
        "The implementation in MLlib has the following parameters: \n",
        "\n",
        "*   `numBlocks` = no. of blocks used to parallelize computation\n",
        "*   `rank` = no. of latent factors in the model\n",
        "*   `iterations` = no. of iterations to run\n",
        "*   `lambda` = regularization parameter in ALS\n",
        "*    `implicitPrefs` =  whether to use the explicit feedback ALS variant or one adapted for implicit feedback data\n",
        "\n",
        "\n",
        "\n"
      ]
    },
    {
      "cell_type": "code",
      "metadata": {
        "id": "0ohsYqhEUTYB",
        "colab_type": "code",
        "colab": {}
      },
      "source": [
        "# Selecting the best parameters using ALS dataset\n",
        "training_RDD, validation_RDD, test_RDD = small_ratings_data.randomSplit([6, 2, 2], seed=42)\n"
      ],
      "execution_count": 0,
      "outputs": []
    },
    {
      "cell_type": "code",
      "metadata": {
        "id": "wpusV2O3XtVO",
        "colab_type": "code",
        "colab": {}
      },
      "source": [
        "validation_for_predict_RDD = validation_RDD.map(lambda x: (x[0], x[1]))\n",
        "test_for_predict_RDD = test_RDD.map(lambda x: (x[0], x[1]))"
      ],
      "execution_count": 0,
      "outputs": []
    },
    {
      "cell_type": "code",
      "metadata": {
        "id": "qQRCS1IQYmfG",
        "colab_type": "code",
        "outputId": "95fc5c4f-b500-4029-eb8f-6f531f452de3",
        "colab": {
          "base_uri": "https://localhost:8080/",
          "height": 85
        }
      },
      "source": [
        "# Training phase\n",
        "\n",
        "from pyspark.mllib.recommendation import ALS\n",
        "import math\n",
        "\n",
        "seed = 43\n",
        "iterations = 10\n",
        "regularization_parameter = 0.1\n",
        "ranks = [4, 8, 12]\n",
        "errors = [0, 0, 0]\n",
        "err = 0\n",
        "tolerance = 0.02\n",
        "\n",
        "min_error = float('inf')\n",
        "best_rank = -1\n",
        "best_iteration = -1\n",
        "\n",
        "for rank in ranks:\n",
        "    model = ALS.train(training_RDD, rank, seed=seed, iterations=iterations,\n",
        "                      lambda_=regularization_parameter)\n",
        "    predictions = model.predictAll(validation_for_predict_RDD).map(lambda r: ((r[0], r[1]), r[2]))\n",
        "    rates_and_preds = validation_RDD.map(lambda r: ((int(r[0]), int(r[1])), float(r[2]))).join(predictions)\n",
        "    error = math.sqrt(rates_and_preds.map(lambda r: (r[1][0] - r[1][1])**2).mean())\n",
        "    errors[err] = error\n",
        "    err += 1\n",
        "    print ('For rank %s the RMSE is %s' % (rank, error))\n",
        "    if error < min_error:\n",
        "        min_error = error\n",
        "        best_rank = rank\n",
        "\n",
        "print ('The best model was trained with rank %s' % best_rank)"
      ],
      "execution_count": 11,
      "outputs": [
        {
          "output_type": "stream",
          "text": [
            "For rank 4 the RMSE is 0.9064372777135662\n",
            "For rank 8 the RMSE is 0.9091906850626293\n",
            "For rank 12 the RMSE is 0.9140608348862169\n",
            "The best model was trained with rank 4\n"
          ],
          "name": "stdout"
        }
      ]
    },
    {
      "cell_type": "code",
      "metadata": {
        "id": "lQrjjnmSaA4q",
        "colab_type": "code",
        "outputId": "e55fe3d4-5e04-426f-e609-86f7110824c8",
        "colab": {
          "base_uri": "https://localhost:8080/",
          "height": 68
        }
      },
      "source": [
        "# Denotes UserID, MovieID and the Rating \n",
        "predictions.take(3)"
      ],
      "execution_count": 12,
      "outputs": [
        {
          "output_type": "execute_result",
          "data": {
            "text/plain": [
              "[((140, 1084), 3.231818212336625),\n",
              " ((74, 1084), 3.987631471353916),\n",
              " ((402, 1084), 3.7486550840147554)]"
            ]
          },
          "metadata": {
            "tags": []
          },
          "execution_count": 12
        }
      ]
    },
    {
      "cell_type": "code",
      "metadata": {
        "id": "cYWJH9ZheQkj",
        "colab_type": "code",
        "outputId": "76e002fc-7994-4d01-fc8e-2ef299d6d99d",
        "colab": {
          "base_uri": "https://localhost:8080/",
          "height": 68
        }
      },
      "source": [
        "# Join with the validation data and the result looks like \n",
        "rates_and_preds.take(3)"
      ],
      "execution_count": 13,
      "outputs": [
        {
          "output_type": "execute_result",
          "data": {
            "text/plain": [
              "[((1, 553), (5.0, 4.781500981595887)),\n",
              " ((1, 673), (3.0, 2.7816958851413034)),\n",
              " ((1, 1025), (5.0, 4.126055553786673))]"
            ]
          },
          "metadata": {
            "tags": []
          },
          "execution_count": 13
        }
      ]
    },
    {
      "cell_type": "code",
      "metadata": {
        "id": "B5Ij8W__eiPl",
        "colab_type": "code",
        "outputId": "cce495e2-0ff9-49e8-8949-49d36efaaf6d",
        "colab": {
          "base_uri": "https://localhost:8080/",
          "height": 34
        }
      },
      "source": [
        "# Test the selected model \n",
        "\n",
        "model = ALS.train(training_RDD, best_rank, seed=seed, iterations=iterations,\n",
        "                      lambda_=regularization_parameter)\n",
        "predictions = model.predictAll(test_for_predict_RDD).map(lambda r: ((r[0], r[1]), r[2]))\n",
        "rates_and_preds = test_RDD.map(lambda r: ((int(r[0]), int(r[1])), float(r[2]))).join(predictions)\n",
        "error = math.sqrt(rates_and_preds.map(lambda r: (r[1][0] - r[1][1])**2).mean())\n",
        "    \n",
        "print ('For testing data the RMSE is %s' % (error))"
      ],
      "execution_count": 14,
      "outputs": [
        {
          "output_type": "stream",
          "text": [
            "For testing data the RMSE is 0.9088557494902373\n"
          ],
          "name": "stdout"
        }
      ]
    },
    {
      "cell_type": "markdown",
      "metadata": {
        "id": "6octNDwUfpUi",
        "colab_type": "text"
      },
      "source": [
        "Use complete dataset to build the final model"
      ]
    },
    {
      "cell_type": "code",
      "metadata": {
        "id": "2P2Wk-OufRi7",
        "colab_type": "code",
        "outputId": "5de980b3-3e6a-4cbb-d4e7-9d7f89dd8257",
        "colab": {
          "base_uri": "https://localhost:8080/",
          "height": 34
        }
      },
      "source": [
        "# Load the complete dataset file\n",
        "complete_ratings_file = os.path.join(datasets_path, 'ml-latest', 'ratings.csv')\n",
        "complete_ratings_raw_data = sc.textFile(complete_ratings_file)\n",
        "complete_ratings_raw_data_header = complete_ratings_raw_data.take(1)[0]\n",
        "\n",
        "# Parse\n",
        "complete_ratings_data = complete_ratings_raw_data.filter(lambda line: line!=complete_ratings_raw_data_header)\\\n",
        "    .map(lambda line: line.split(\",\")).map(lambda tokens: (int(tokens[0]),int(tokens[1]),float(tokens[2]))).cache()\n",
        "    \n",
        "print(\"There are %s recommendations in the complete dataset\" % (complete_ratings_data.count()))"
      ],
      "execution_count": 15,
      "outputs": [
        {
          "output_type": "stream",
          "text": [
            "There are 27753444 recommendations in the complete dataset\n"
          ],
          "name": "stdout"
        }
      ]
    },
    {
      "cell_type": "code",
      "metadata": {
        "id": "obiOtK_Wf1Lf",
        "colab_type": "code",
        "colab": {}
      },
      "source": [
        "# Train the recommender model\n",
        "training_RDD, test_RDD = complete_ratings_data.randomSplit([7, 3], seed=42)\n",
        "\n",
        "complete_model = ALS.train(training_RDD, best_rank, seed=seed, \n",
        "                           iterations=iterations, lambda_=regularization_parameter)"
      ],
      "execution_count": 0,
      "outputs": []
    },
    {
      "cell_type": "code",
      "metadata": {
        "id": "IFW6uQGEg0JH",
        "colab_type": "code",
        "outputId": "ca271f34-b9b0-4fec-b5f9-dafc5b241e0b",
        "colab": {
          "base_uri": "https://localhost:8080/",
          "height": 34
        }
      },
      "source": [
        "# Test on the testing set\n",
        "test_for_predict_RDD = test_RDD.map(lambda x: (x[0], x[1]))\n",
        "\n",
        "predictions = complete_model.predictAll(test_for_predict_RDD).map(lambda r: ((r[0], r[1]), r[2]))\n",
        "rates_and_preds = test_RDD.map(lambda r: ((int(r[0]), int(r[1])), float(r[2]))).join(predictions)\n",
        "error = math.sqrt(rates_and_preds.map(lambda r: (r[1][0] - r[1][1])**2).mean())\n",
        "    \n",
        "print ('For testing data the RMSE is %s' % (error))"
      ],
      "execution_count": 17,
      "outputs": [
        {
          "output_type": "stream",
          "text": [
            "For testing data the RMSE is 0.8319739154528915\n"
          ],
          "name": "stdout"
        }
      ]
    },
    {
      "cell_type": "code",
      "metadata": {
        "id": "251oZnvThcqE",
        "colab_type": "code",
        "outputId": "9501595f-5175-4ad6-8d2f-c7f7b0eabc5c",
        "colab": {
          "base_uri": "https://localhost:8080/",
          "height": 34
        }
      },
      "source": [
        "# Load the movies complete file for later use\n",
        "\n",
        "complete_movies_file = os.path.join(datasets_path, 'ml-latest', 'movies.csv')\n",
        "complete_movies_raw_data = sc.textFile(complete_movies_file)\n",
        "complete_movies_raw_data_header = complete_movies_raw_data.take(1)[0]\n",
        "\n",
        "# Parse\n",
        "complete_movies_data = complete_movies_raw_data.filter(lambda line: line!=complete_movies_raw_data_header)\\\n",
        "    .map(lambda line: line.split(\",\")).map(lambda tokens: (int(tokens[0]),tokens[1],tokens[2])).cache()\n",
        "\n",
        "complete_movies_titles = complete_movies_data.map(lambda x: (int(x[0]),x[1]))\n",
        "    \n",
        "print (\"There are %s movies in the complete dataset\" % (complete_movies_titles.count()))"
      ],
      "execution_count": 18,
      "outputs": [
        {
          "output_type": "stream",
          "text": [
            "There are 58098 movies in the complete dataset\n"
          ],
          "name": "stdout"
        }
      ]
    },
    {
      "cell_type": "code",
      "metadata": {
        "id": "T3gHgvl21loA",
        "colab_type": "code",
        "colab": {}
      },
      "source": [
        "# Find the count of the number of ratings per movie so that \n",
        "# we can give recommendations of movies with a certain number of ratings\n",
        "\n",
        "def get_counts_and_averages(ID_and_ratings_tuple):\n",
        "    nratings = len(ID_and_ratings_tuple[1])\n",
        "    return ID_and_ratings_tuple[0], (nratings, float(sum(x for x in ID_and_ratings_tuple[1]))/nratings)\n",
        "\n",
        "movie_ID_with_ratings_RDD = (complete_ratings_data.map(lambda x: (x[1], x[2])).groupByKey())\n",
        "movie_ID_with_avg_ratings_RDD = movie_ID_with_ratings_RDD.map(get_counts_and_averages)\n",
        "movie_rating_counts_RDD = movie_ID_with_avg_ratings_RDD.map(lambda x: (x[0], x[1][0]))"
      ],
      "execution_count": 0,
      "outputs": []
    },
    {
      "cell_type": "code",
      "metadata": {
        "id": "oo3cg1541_vQ",
        "colab_type": "code",
        "outputId": "61e21c52-e948-4146-fe83-b00e5fda7a35",
        "colab": {
          "base_uri": "https://localhost:8080/",
          "height": 74
        }
      },
      "source": [
        "# Adding new user rating: we need to rate some movies for the new user\n",
        "\n",
        "new_user_ID = 0\n",
        "\n",
        "# The format of each line is (userID, movieID, rating)\n",
        "new_user_ratings = [\n",
        "     (0,260,4), # Star Wars (1977)\n",
        "     (0,1,3), # Toy Story (1995)\n",
        "     (0,16,3), # Casino (1995)\n",
        "     (0,25,4), # Leaving Las Vegas (1995)\n",
        "     (0,32,4), # Twelve Monkeys (a.k.a. 12 Monkeys) (1995)\n",
        "     (0,335,1), # Flintstones, The (1994)\n",
        "     (0,379,1), # Timecop (1994)\n",
        "     (0,296,3), # Pulp Fiction (1994)\n",
        "     (0,858,5) , # Godfather, The (1972)\n",
        "     (0,50,4) # Usual Suspects, The (1995)\n",
        "    ]\n",
        "new_user_ratings_RDD = sc.parallelize(new_user_ratings)\n",
        "print ('New user ratings: %s' % new_user_ratings_RDD.take(10))"
      ],
      "execution_count": 20,
      "outputs": [
        {
          "output_type": "stream",
          "text": [
            "New user ratings: [(0, 260, 4), (0, 1, 3), (0, 16, 3), (0, 25, 4), (0, 32, 4), (0, 335, 1), (0, 379, 1), (0, 296, 3), (0, 858, 5), (0, 50, 4)]\n"
          ],
          "name": "stdout"
        }
      ]
    },
    {
      "cell_type": "code",
      "metadata": {
        "id": "wBXKMaJk2skJ",
        "colab_type": "code",
        "colab": {}
      },
      "source": [
        "# Add them to the data we will use to train the recommender model \n",
        "\n",
        "complete_data_with_new_ratings_RDD = complete_ratings_data.union(new_user_ratings_RDD)"
      ],
      "execution_count": 0,
      "outputs": []
    },
    {
      "cell_type": "code",
      "metadata": {
        "id": "4OXFCefD29JN",
        "colab_type": "code",
        "outputId": "1dda36e5-c81c-42da-da18-6c66cfde79d7",
        "colab": {
          "base_uri": "https://localhost:8080/",
          "height": 34
        }
      },
      "source": [
        "# Train ALS model using all parameters we selected before\n",
        "\n",
        "from time import time\n",
        "\n",
        "t0 = time()\n",
        "new_ratings_model = ALS.train(complete_data_with_new_ratings_RDD, best_rank, seed=seed, \n",
        "                              iterations=iterations, lambda_=regularization_parameter)\n",
        "tt = time() - t0\n",
        "\n",
        "print (\"New model trained in %s seconds\" % round(tt,3))"
      ],
      "execution_count": 22,
      "outputs": [
        {
          "output_type": "stream",
          "text": [
            "New model trained in 218.825 seconds\n"
          ],
          "name": "stdout"
        }
      ]
    },
    {
      "cell_type": "code",
      "metadata": {
        "id": "sVu3Eym63INm",
        "colab_type": "code",
        "colab": {}
      },
      "source": [
        "# Getting top recommendations\n",
        "\n",
        "new_user_ratings_ids = map(lambda x: x[1], new_user_ratings) # get just movie IDs\n",
        "# keep just those not on the ID list\n",
        "new_user_unrated_movies_RDD = (complete_movies_data.filter(lambda x: x[0] not in new_user_ratings_ids).map(lambda x: (new_user_ID, x[0])))\n",
        "\n",
        "# Use the input RDD, new_user_unrated_movies_RDD, with new_ratings_model.predictAll() to predict new ratings for the movies\n",
        "new_user_recommendations_RDD = new_ratings_model.predictAll(new_user_unrated_movies_RDD)"
      ],
      "execution_count": 0,
      "outputs": []
    },
    {
      "cell_type": "code",
      "metadata": {
        "id": "bGog-OBc3kUr",
        "colab_type": "code",
        "outputId": "7e5d9c99-27cd-46b6-a0e1-f2ba0dc00bfb",
        "colab": {
          "base_uri": "https://localhost:8080/",
          "height": 102
        }
      },
      "source": [
        "# Transform new_user_recommendations_RDD into pairs of the form (Movie ID, Predicted Rating)\n",
        "new_user_recommendations_rating_RDD = new_user_recommendations_RDD.map(lambda x: (x.product, x.rating))\n",
        "new_user_recommendations_rating_title_and_count_RDD = \\\n",
        "    new_user_recommendations_rating_RDD.join(complete_movies_titles).join(movie_rating_counts_RDD)\n",
        "new_user_recommendations_rating_title_and_count_RDD.take(3)\n",
        "\n"
      ],
      "execution_count": 24,
      "outputs": [
        {
          "output_type": "execute_result",
          "data": {
            "text/plain": [
              "[(6216,\n",
              "  ((3.350020434608627, 'Nowhere in Africa (Nirgendwo in Afrika) (2001)'),\n",
              "   717)),\n",
              " (124320, ((3.28735185728935, 'Once a Thief (1965)'), 1)),\n",
              " (83916, ((3.0594761092407268, 'Blues in the Night (1941)'), 9))]"
            ]
          },
          "metadata": {
            "tags": []
          },
          "execution_count": 24
        }
      ]
    },
    {
      "cell_type": "code",
      "metadata": {
        "id": "pD6Kq4fl5Cur",
        "colab_type": "code",
        "colab": {}
      },
      "source": [
        "# Rearrange to (Title, Rating, Ratings Count)\n",
        "new_user_recommendations_rating_title_and_count_RDD = \\\n",
        "    new_user_recommendations_rating_title_and_count_RDD.map(lambda r: (r[1][0][1], r[1][0][0], r[1][1]))"
      ],
      "execution_count": 0,
      "outputs": []
    },
    {
      "cell_type": "code",
      "metadata": {
        "id": "AwLe1xQU56n-",
        "colab_type": "code",
        "outputId": "5da539e1-6388-4f08-990f-e52931d0c0e1",
        "colab": {
          "base_uri": "https://localhost:8080/",
          "height": 459
        }
      },
      "source": [
        "# Get highest rated movies, removies movies with less than 25 ratings \n",
        "top_movies = new_user_recommendations_rating_title_and_count_RDD.filter(lambda r: r[2]>=25).takeOrdered(25, key=lambda x: -x[1])\n",
        "\n",
        "print ('TOP recommended movies (with more than 25 reviews):\\n%s' %\n",
        "        '\\n'.join(map(str, top_movies)))"
      ],
      "execution_count": 26,
      "outputs": [
        {
          "output_type": "stream",
          "text": [
            "TOP recommended movies (with more than 25 reviews):\n",
            "('\"Things I Like', 4.122233013769481, 30)\n",
            "('Slaying the Badger', 4.067588548573652, 25)\n",
            "('Heimat - A Chronicle of Germany (Heimat - Eine deutsche Chronik) (1984)', 4.034303912020852, 35)\n",
            "('Wild Wild Country (2018)', 3.989878863955422, 55)\n",
            "('The Garden of Sinners - Chapter 5: Paradox Paradigm (2008)', 3.978482670589439, 27)\n",
            "('Planet Earth II (2016)', 3.93846669843038, 853)\n",
            "('Cosmos', 3.9372759193341125, 157)\n",
            "('\"Adventures of Picasso', 3.9364477195805523, 28)\n",
            "('Frozen Planet (2011)', 3.936002348627664, 402)\n",
            "('Planet Earth (2006)', 3.8960044347239364, 1384)\n",
            "('The Blue Planet (2001)', 3.8892853413682786, 421)\n",
            "('\"Enemies of Reason', 3.8798502927959184, 32)\n",
            "('Olive Kitteridge (2014)', 3.876616353993793, 211)\n",
            "('Alone in the Wilderness (2004)', 3.8750906074826474, 343)\n",
            "('Blue Planet II (2017)', 3.8746845657042392, 349)\n",
            "('Over the Garden Wall (2013)', 3.874470974565863, 377)\n",
            "('\"In the blue sea', 3.8743901971325725, 37)\n",
            "('\"Decalogue', 3.8683238207122748, 547)\n",
            "('Human (2015)', 3.863195249916547, 68)\n",
            "('The Farthest (2017)', 3.8583487554215257, 28)\n",
            "('God Grew Tired of Us (2006)', 3.8552790944510757, 52)\n",
            "('House of Sand (Casa de Areia) (2005)', 3.850342791163257, 36)\n",
            "('Landscape in the Mist (Topio stin omichli) (1988)', 3.8417908756240235, 58)\n",
            "('Life (2009)', 3.836490400038004, 166)\n",
            "('Louis Theroux: Law & Disorder (2008)', 3.831339114832385, 56)\n"
          ],
          "name": "stdout"
        }
      ]
    },
    {
      "cell_type": "code",
      "metadata": {
        "id": "foDhG-C86DqD",
        "colab_type": "code",
        "outputId": "f6ebbb38-455f-4e11-9b69-d9b7caf96ce6",
        "colab": {
          "base_uri": "https://localhost:8080/",
          "height": 34
        }
      },
      "source": [
        "# Getting invidual ratings \n",
        "\n",
        "my_movie = sc.parallelize([(0, 500)])\n",
        "individual_movie_rating_RDD = new_ratings_model.predictAll(new_user_unrated_movies_RDD)\n",
        "individual_movie_rating_RDD.take(1)"
      ],
      "execution_count": 27,
      "outputs": [
        {
          "output_type": "execute_result",
          "data": {
            "text/plain": [
              "[Rating(user=0, product=116688, rating=0.7575093482069493)]"
            ]
          },
          "metadata": {
            "tags": []
          },
          "execution_count": 27
        }
      ]
    },
    {
      "cell_type": "code",
      "metadata": {
        "id": "_972gB7q6vEy",
        "colab_type": "code",
        "colab": {}
      },
      "source": [
        "# Save and load the ALS model \n",
        "\n",
        "from pyspark.mllib.recommendation import MatrixFactorizationModel\n",
        "\n",
        "model_path = os.path.join('..', 'models', 'movie_lens_als')\n",
        "\n",
        "# Save and load model\n",
        "model.save(sc, model_path)\n",
        "same_model = MatrixFactorizationModel.load(sc, model_path)"
      ],
      "execution_count": 0,
      "outputs": []
    },
    {
      "cell_type": "code",
      "metadata": {
        "id": "Lt2sgZSW6_dA",
        "colab_type": "code",
        "colab": {
          "base_uri": "https://localhost:8080/",
          "height": 414
        },
        "outputId": "ca24916d-926c-4ff4-a47b-09a89a1f78eb"
      },
      "source": [
        "# Zip folder in colab\n",
        "!zip -r /models/file.zip /models/movie_lens_als"
      ],
      "execution_count": 32,
      "outputs": [
        {
          "output_type": "stream",
          "text": [
            "  adding: models/movie_lens_als/ (stored 0%)\n",
            "  adding: models/movie_lens_als/metadata/ (stored 0%)\n",
            "  adding: models/movie_lens_als/metadata/._SUCCESS.crc (stored 0%)\n",
            "  adding: models/movie_lens_als/metadata/_SUCCESS (stored 0%)\n",
            "  adding: models/movie_lens_als/metadata/.part-00000.crc (stored 0%)\n",
            "  adding: models/movie_lens_als/metadata/part-00000 (deflated 8%)\n",
            "  adding: models/movie_lens_als/data/ (stored 0%)\n",
            "  adding: models/movie_lens_als/data/product/ (stored 0%)\n",
            "  adding: models/movie_lens_als/data/product/._SUCCESS.crc (stored 0%)\n",
            "  adding: models/movie_lens_als/data/product/part-00000-ec5ab21d-82a9-4c64-b13d-35b6c15f09fe-c000.snappy.parquet (deflated 23%)\n",
            "  adding: models/movie_lens_als/data/product/.part-00000-ec5ab21d-82a9-4c64-b13d-35b6c15f09fe-c000.snappy.parquet.crc (stored 0%)\n",
            "  adding: models/movie_lens_als/data/product/part-00001-ec5ab21d-82a9-4c64-b13d-35b6c15f09fe-c000.snappy.parquet (deflated 24%)\n",
            "  adding: models/movie_lens_als/data/product/_SUCCESS (stored 0%)\n",
            "  adding: models/movie_lens_als/data/product/.part-00001-ec5ab21d-82a9-4c64-b13d-35b6c15f09fe-c000.snappy.parquet.crc (stored 0%)\n",
            "  adding: models/movie_lens_als/data/user/ (stored 0%)\n",
            "  adding: models/movie_lens_als/data/user/.part-00001-5f57f394-b4b8-463c-9864-7d3839443fcb-c000.snappy.parquet.crc (stored 0%)\n",
            "  adding: models/movie_lens_als/data/user/part-00001-5f57f394-b4b8-463c-9864-7d3839443fcb-c000.snappy.parquet (deflated 23%)\n",
            "  adding: models/movie_lens_als/data/user/._SUCCESS.crc (stored 0%)\n",
            "  adding: models/movie_lens_als/data/user/part-00000-5f57f394-b4b8-463c-9864-7d3839443fcb-c000.snappy.parquet (deflated 23%)\n",
            "  adding: models/movie_lens_als/data/user/.part-00000-5f57f394-b4b8-463c-9864-7d3839443fcb-c000.snappy.parquet.crc (stored 0%)\n",
            "  adding: models/movie_lens_als/data/user/_SUCCESS (stored 0%)\n"
          ],
          "name": "stdout"
        }
      ]
    },
    {
      "cell_type": "code",
      "metadata": {
        "id": "O_D_HfajISHE",
        "colab_type": "code",
        "colab": {}
      },
      "source": [
        "# Download files from colab\n",
        "\n",
        "from google.colab import files\n",
        "files.download(\"/models/file.zip\")"
      ],
      "execution_count": 0,
      "outputs": []
    },
    {
      "cell_type": "code",
      "metadata": {
        "id": "nXBgy132Ip9e",
        "colab_type": "code",
        "colab": {}
      },
      "source": [
        ""
      ],
      "execution_count": 0,
      "outputs": []
    }
  ]
}